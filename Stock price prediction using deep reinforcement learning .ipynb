{
 "cells": [
  {
   "cell_type": "markdown",
   "metadata": {},
   "source": [
    "APPLICATION OF DEEP REINFORCEMENT LEARNING IN STOCK TRADING STRATEGIES\n"
   ]
  },
  {
   "cell_type": "code",
   "execution_count": 1,
   "metadata": {},
   "outputs": [],
   "source": [
    "#PROBLEM STATEMENT:\n",
    "\n",
    "# You are given the stock price till the (t-1)^th day and you need to predict whether the stock price would go up,down or would remain sideways on the t^th day,\n",
    "# So the current state is the close price list till the (t-1)-day  and the number of stocks we have purchased on this time stamp\n",
    "# Your action would be:\n",
    "# You should buy the stock(which means we predict the stock price to go up)\n",
    "# You should sell the stock(which means we predict the stock price to go down)\n",
    "# You should hold on the position (which means do nothing)\n",
    "# First of all there a few variables\n",
    "# MAX_TRANSACTIONS = k, maximum number of time we can do a buy after a selling\n",
    "# TOTAL_MONEY = k2 , total money that we have in cash(virtual ) \n",
    "# CURRENT_STOCKS_BOUGHT = k3 , the number of stocks we have bought currently\n",
    "# CURRENT_TRANSACTION_COUNT = k4, number of buys done before selling - You can only do the buy if CURRENT_TRANSACTION_COUNT<MAX_TRANSACTIONS\n",
    "# Whenever you do a buy the amount with which you buy the stocks are x= TOTAL_MONEY/(MAX_TRANSACTIONS- CURRENT_TRANSACTION_COUNT)  and the number of stocks bought in this buy signal = x/STOCK_PRICE at that moment.\n",
    "# Whenever you do sell just increase your TOTAL_MONEY by CURRENT_STOCKS_BOUGHT*STOCK_PRICE and do the CURRENT_TRANSACTION_COUNT=0\n",
    "# Now when to do a buy or when to do the sell:\n",
    "# Do the buy whenever there is a buy signal and when CURRENT_TRANSACTION_COUNT<MAX_TRANSACTIONS\n",
    "# When there is a sell signal from DQN , just sell any stocks if you had purchased if any\n",
    "# When there is a hold signal , do nothing\n",
    "# Reward: It is the profit or the loss that happens in any transactions\n",
    "# DataSet: Use the 2009 January-2017 December data for training and then use the 2018 January-2019 December data to do the test(and report the profits made in it)\n",
    "\n",
    "#AMAZON STOCK  2007 to 2019 \n",
    "# 2009 January-2017 December data for training\n",
    "# jan 2018 to dec 2019 data for testing purpose"
   ]
  },
  {
   "cell_type": "code",
   "execution_count": 2,
   "metadata": {},
   "outputs": [],
   "source": [
    "#importing all the libraries"
   ]
  },
  {
   "cell_type": "code",
   "execution_count": 3,
   "metadata": {},
   "outputs": [],
   "source": [
    "import numpy as np  #for calculations\n",
    "import pandas as pd  #for data import \n",
    "import matplotlib.pyplot as plt #for visualisation\n",
    "import gym #for creating environment\n",
    "import seaborn as sns #for visualisation\n",
    "import time #for keeping track of execution time\n",
    "import copy # for coping weights of neural network\n",
    "import chainer #For creating neural network the syntax is same as pytorch now, it is also fused to pytorch\n",
    "import chainer.functions as F\n",
    "import chainer.links as L"
   ]
  },
  {
   "cell_type": "code",
   "execution_count": 4,
   "metadata": {},
   "outputs": [],
   "source": [
    "#importing the data and divide it into train and split part"
   ]
  },
  {
   "cell_type": "code",
   "execution_count": 5,
   "metadata": {},
   "outputs": [],
   "source": [
    "df=pd.read_csv(\"AMZN (1).csv\") #using amazon daily data from yahoo finance"
   ]
  },
  {
   "cell_type": "code",
   "execution_count": 6,
   "metadata": {},
   "outputs": [
    {
     "data": {
      "text/html": [
       "<div>\n",
       "<style scoped>\n",
       "    .dataframe tbody tr th:only-of-type {\n",
       "        vertical-align: middle;\n",
       "    }\n",
       "\n",
       "    .dataframe tbody tr th {\n",
       "        vertical-align: top;\n",
       "    }\n",
       "\n",
       "    .dataframe thead th {\n",
       "        text-align: right;\n",
       "    }\n",
       "</style>\n",
       "<table border=\"1\" class=\"dataframe\">\n",
       "  <thead>\n",
       "    <tr style=\"text-align: right;\">\n",
       "      <th></th>\n",
       "      <th>Date</th>\n",
       "      <th>Open</th>\n",
       "      <th>High</th>\n",
       "      <th>Low</th>\n",
       "      <th>Close</th>\n",
       "      <th>Adj Close</th>\n",
       "      <th>Volume</th>\n",
       "    </tr>\n",
       "  </thead>\n",
       "  <tbody>\n",
       "    <tr>\n",
       "      <th>0</th>\n",
       "      <td>2007-01-03</td>\n",
       "      <td>38.680000</td>\n",
       "      <td>39.060001</td>\n",
       "      <td>38.049999</td>\n",
       "      <td>38.700001</td>\n",
       "      <td>38.700001</td>\n",
       "      <td>12405100</td>\n",
       "    </tr>\n",
       "    <tr>\n",
       "      <th>1</th>\n",
       "      <td>2007-01-04</td>\n",
       "      <td>38.590000</td>\n",
       "      <td>39.139999</td>\n",
       "      <td>38.259998</td>\n",
       "      <td>38.900002</td>\n",
       "      <td>38.900002</td>\n",
       "      <td>6318400</td>\n",
       "    </tr>\n",
       "    <tr>\n",
       "      <th>2</th>\n",
       "      <td>2007-01-05</td>\n",
       "      <td>38.720001</td>\n",
       "      <td>38.790001</td>\n",
       "      <td>37.599998</td>\n",
       "      <td>38.369999</td>\n",
       "      <td>38.369999</td>\n",
       "      <td>6619700</td>\n",
       "    </tr>\n",
       "    <tr>\n",
       "      <th>3</th>\n",
       "      <td>2007-01-08</td>\n",
       "      <td>38.220001</td>\n",
       "      <td>38.310001</td>\n",
       "      <td>37.169998</td>\n",
       "      <td>37.500000</td>\n",
       "      <td>37.500000</td>\n",
       "      <td>6783000</td>\n",
       "    </tr>\n",
       "    <tr>\n",
       "      <th>4</th>\n",
       "      <td>2007-01-09</td>\n",
       "      <td>37.599998</td>\n",
       "      <td>38.060001</td>\n",
       "      <td>37.340000</td>\n",
       "      <td>37.779999</td>\n",
       "      <td>37.779999</td>\n",
       "      <td>5703000</td>\n",
       "    </tr>\n",
       "  </tbody>\n",
       "</table>\n",
       "</div>"
      ],
      "text/plain": [
       "         Date       Open       High        Low      Close  Adj Close    Volume\n",
       "0  2007-01-03  38.680000  39.060001  38.049999  38.700001  38.700001  12405100\n",
       "1  2007-01-04  38.590000  39.139999  38.259998  38.900002  38.900002   6318400\n",
       "2  2007-01-05  38.720001  38.790001  37.599998  38.369999  38.369999   6619700\n",
       "3  2007-01-08  38.220001  38.310001  37.169998  37.500000  37.500000   6783000\n",
       "4  2007-01-09  37.599998  38.060001  37.340000  37.779999  37.779999   5703000"
      ]
     },
     "execution_count": 6,
     "metadata": {},
     "output_type": "execute_result"
    }
   ],
   "source": [
    "df.head()"
   ]
  },
  {
   "cell_type": "code",
   "execution_count": 7,
   "metadata": {},
   "outputs": [
    {
     "name": "stdout",
     "output_type": "stream",
     "text": [
      "<class 'pandas.core.frame.DataFrame'>\n",
      "RangeIndex: 3259 entries, 0 to 3258\n",
      "Data columns (total 7 columns):\n",
      " #   Column     Non-Null Count  Dtype  \n",
      "---  ------     --------------  -----  \n",
      " 0   Date       3259 non-null   object \n",
      " 1   Open       3259 non-null   float64\n",
      " 2   High       3259 non-null   float64\n",
      " 3   Low        3259 non-null   float64\n",
      " 4   Close      3259 non-null   float64\n",
      " 5   Adj Close  3259 non-null   float64\n",
      " 6   Volume     3259 non-null   int64  \n",
      "dtypes: float64(5), int64(1), object(1)\n",
      "memory usage: 178.4+ KB\n"
     ]
    }
   ],
   "source": [
    "df.info()"
   ]
  },
  {
   "cell_type": "code",
   "execution_count": 8,
   "metadata": {},
   "outputs": [],
   "source": [
    "#nothing is missing"
   ]
  },
  {
   "cell_type": "code",
   "execution_count": 9,
   "metadata": {},
   "outputs": [
    {
     "data": {
      "text/plain": [
       "<matplotlib.axes._subplots.AxesSubplot at 0x23150f6adc8>"
      ]
     },
     "execution_count": 9,
     "metadata": {},
     "output_type": "execute_result"
    },
    {
     "data": {
      "image/png": "[encoded data removed]",
      "text/plain": [
       "<Figure size 1080x720 with 1 Axes>"
      ]
     },
     "metadata": {
      "needs_background": "light"
     },
     "output_type": "display_data"
    }
   ],
   "source": [
    "plt.figure(figsize=(15,10))\n",
    "sns.lineplot(x=df.index,y=\"Close\",data=df)"
   ]
  },
  {
   "cell_type": "code",
   "execution_count": 10,
   "metadata": {},
   "outputs": [],
   "source": [
    "#splitting into train and test\n",
    "train=df[df.index<2769]\n",
    "test=df[df.index>=2769]\n",
    "#at index 2769 , date is 2 jan 2018  "
   ]
  },
  {
   "cell_type": "code",
   "execution_count": 11,
   "metadata": {},
   "outputs": [
    {
     "data": {
      "text/html": [
       "<div>\n",
       "<style scoped>\n",
       "    .dataframe tbody tr th:only-of-type {\n",
       "        vertical-align: middle;\n",
       "    }\n",
       "\n",
       "    .dataframe tbody tr th {\n",
       "        vertical-align: top;\n",
       "    }\n",
       "\n",
       "    .dataframe thead th {\n",
       "        text-align: right;\n",
       "    }\n",
       "</style>\n",
       "<table border=\"1\" class=\"dataframe\">\n",
       "  <thead>\n",
       "    <tr style=\"text-align: right;\">\n",
       "      <th></th>\n",
       "      <th>Date</th>\n",
       "      <th>Open</th>\n",
       "      <th>High</th>\n",
       "      <th>Low</th>\n",
       "      <th>Close</th>\n",
       "      <th>Adj Close</th>\n",
       "      <th>Volume</th>\n",
       "    </tr>\n",
       "  </thead>\n",
       "  <tbody>\n",
       "    <tr>\n",
       "      <th>0</th>\n",
       "      <td>2007-01-03</td>\n",
       "      <td>38.680000</td>\n",
       "      <td>39.060001</td>\n",
       "      <td>38.049999</td>\n",
       "      <td>38.700001</td>\n",
       "      <td>38.700001</td>\n",
       "      <td>12405100</td>\n",
       "    </tr>\n",
       "    <tr>\n",
       "      <th>1</th>\n",
       "      <td>2007-01-04</td>\n",
       "      <td>38.590000</td>\n",
       "      <td>39.139999</td>\n",
       "      <td>38.259998</td>\n",
       "      <td>38.900002</td>\n",
       "      <td>38.900002</td>\n",
       "      <td>6318400</td>\n",
       "    </tr>\n",
       "    <tr>\n",
       "      <th>2</th>\n",
       "      <td>2007-01-05</td>\n",
       "      <td>38.720001</td>\n",
       "      <td>38.790001</td>\n",
       "      <td>37.599998</td>\n",
       "      <td>38.369999</td>\n",
       "      <td>38.369999</td>\n",
       "      <td>6619700</td>\n",
       "    </tr>\n",
       "    <tr>\n",
       "      <th>3</th>\n",
       "      <td>2007-01-08</td>\n",
       "      <td>38.220001</td>\n",
       "      <td>38.310001</td>\n",
       "      <td>37.169998</td>\n",
       "      <td>37.500000</td>\n",
       "      <td>37.500000</td>\n",
       "      <td>6783000</td>\n",
       "    </tr>\n",
       "    <tr>\n",
       "      <th>4</th>\n",
       "      <td>2007-01-09</td>\n",
       "      <td>37.599998</td>\n",
       "      <td>38.060001</td>\n",
       "      <td>37.340000</td>\n",
       "      <td>37.779999</td>\n",
       "      <td>37.779999</td>\n",
       "      <td>5703000</td>\n",
       "    </tr>\n",
       "  </tbody>\n",
       "</table>\n",
       "</div>"
      ],
      "text/plain": [
       "         Date       Open       High        Low      Close  Adj Close    Volume\n",
       "0  2007-01-03  38.680000  39.060001  38.049999  38.700001  38.700001  12405100\n",
       "1  2007-01-04  38.590000  39.139999  38.259998  38.900002  38.900002   6318400\n",
       "2  2007-01-05  38.720001  38.790001  37.599998  38.369999  38.369999   6619700\n",
       "3  2007-01-08  38.220001  38.310001  37.169998  37.500000  37.500000   6783000\n",
       "4  2007-01-09  37.599998  38.060001  37.340000  37.779999  37.779999   5703000"
      ]
     },
     "execution_count": 11,
     "metadata": {},
     "output_type": "execute_result"
    }
   ],
   "source": [
    "train.head()"
   ]
  },
  {
   "cell_type": "code",
   "execution_count": 12,
   "metadata": {},
   "outputs": [
    {
     "data": {
      "text/html": [
       "<div>\n",
       "<style scoped>\n",
       "    .dataframe tbody tr th:only-of-type {\n",
       "        vertical-align: middle;\n",
       "    }\n",
       "\n",
       "    .dataframe tbody tr th {\n",
       "        vertical-align: top;\n",
       "    }\n",
       "\n",
       "    .dataframe thead th {\n",
       "        text-align: right;\n",
       "    }\n",
       "</style>\n",
       "<table border=\"1\" class=\"dataframe\">\n",
       "  <thead>\n",
       "    <tr style=\"text-align: right;\">\n",
       "      <th></th>\n",
       "      <th>Date</th>\n",
       "      <th>Open</th>\n",
       "      <th>High</th>\n",
       "      <th>Low</th>\n",
       "      <th>Close</th>\n",
       "      <th>Adj Close</th>\n",
       "      <th>Volume</th>\n",
       "    </tr>\n",
       "  </thead>\n",
       "  <tbody>\n",
       "    <tr>\n",
       "      <th>2769</th>\n",
       "      <td>2018-01-02</td>\n",
       "      <td>1172.000000</td>\n",
       "      <td>1190.000000</td>\n",
       "      <td>1170.510010</td>\n",
       "      <td>1189.010010</td>\n",
       "      <td>1189.010010</td>\n",
       "      <td>2694500</td>\n",
       "    </tr>\n",
       "    <tr>\n",
       "      <th>2770</th>\n",
       "      <td>2018-01-03</td>\n",
       "      <td>1188.300049</td>\n",
       "      <td>1205.489990</td>\n",
       "      <td>1188.300049</td>\n",
       "      <td>1204.199951</td>\n",
       "      <td>1204.199951</td>\n",
       "      <td>3108800</td>\n",
       "    </tr>\n",
       "    <tr>\n",
       "      <th>2771</th>\n",
       "      <td>2018-01-04</td>\n",
       "      <td>1205.000000</td>\n",
       "      <td>1215.869995</td>\n",
       "      <td>1204.660034</td>\n",
       "      <td>1209.589966</td>\n",
       "      <td>1209.589966</td>\n",
       "      <td>3022100</td>\n",
       "    </tr>\n",
       "    <tr>\n",
       "      <th>2772</th>\n",
       "      <td>2018-01-05</td>\n",
       "      <td>1217.510010</td>\n",
       "      <td>1229.140015</td>\n",
       "      <td>1210.000000</td>\n",
       "      <td>1229.140015</td>\n",
       "      <td>1229.140015</td>\n",
       "      <td>3544700</td>\n",
       "    </tr>\n",
       "    <tr>\n",
       "      <th>2773</th>\n",
       "      <td>2018-01-08</td>\n",
       "      <td>1236.000000</td>\n",
       "      <td>1253.079956</td>\n",
       "      <td>1232.030029</td>\n",
       "      <td>1246.869995</td>\n",
       "      <td>1246.869995</td>\n",
       "      <td>4279500</td>\n",
       "    </tr>\n",
       "  </tbody>\n",
       "</table>\n",
       "</div>"
      ],
      "text/plain": [
       "            Date         Open         High          Low        Close  \\\n",
       "2769  2018-01-02  1172.000000  1190.000000  1170.510010  1189.010010   \n",
       "2770  2018-01-03  1188.300049  1205.489990  1188.300049  1204.199951   \n",
       "2771  2018-01-04  1205.000000  1215.869995  1204.660034  1209.589966   \n",
       "2772  2018-01-05  1217.510010  1229.140015  1210.000000  1229.140015   \n",
       "2773  2018-01-08  1236.000000  1253.079956  1232.030029  1246.869995   \n",
       "\n",
       "        Adj Close   Volume  \n",
       "2769  1189.010010  2694500  \n",
       "2770  1204.199951  3108800  \n",
       "2771  1209.589966  3022100  \n",
       "2772  1229.140015  3544700  \n",
       "2773  1246.869995  4279500  "
      ]
     },
     "execution_count": 12,
     "metadata": {},
     "output_type": "execute_result"
    }
   ],
   "source": [
    "test.head()"
   ]
  },
  {
   "cell_type": "code",
   "execution_count": 13,
   "metadata": {},
   "outputs": [],
   "source": [
    "#creating the environment\n",
    "#inputs to the environment Data(train),Total_Amount,Max_tranction,history_length "
   ]
  },
  {
   "cell_type": "code",
   "execution_count": 14,
   "metadata": {},
   "outputs": [],
   "source": [
    "class environment(gym.Env):\n",
    "    def __init__(self,data,Total_Amount,Max_transaction,history_length=100):\n",
    "        self.data=data  #data of a stock\n",
    "        self.total_Amount=Total_Amount #total amount of money we have\n",
    "        self.Max_transaction=Max_transaction #max_transaction after between 2 sell actions\n",
    "        self.history_length=history_length #amount of history of stock price difference we want to store \n",
    "        self.action_space=gym.spaces.Discrete(3) #gym action space\n",
    "        self.reset() #reset the data when environment is called\n",
    "    def reset(self): \n",
    "        self.t = 0  # for iterating the dataframe\n",
    "        self.Total_Amount=self.total_Amount #total initial amount+profits\n",
    "        self.current_stocks=[] #keep record of the current stocks\n",
    "        self.done = False   #done bool for finished or not\n",
    "        self.profits = 0  #total profits without no limit of money and max_transaction\n",
    "                        # no use in our project just for experimentations\n",
    "        self.calculated_profits=0 # profit with all the limits told in the problem statement\n",
    "                        # at last we can also calculate by final total-initial total\n",
    "        self.positions = [] #Total positions in the market we have , length of this can give current transaction\n",
    "        self.position_value = 0 # after our action taken and all the parameters calculated , using that day close price we calculate position value and give input to the neural network\n",
    "        self.history = [0 for i in range(self.history_length)] #list for storing the history, we are going to maintain it like a queue\n",
    "        return [self.position_value] + self.history #return list with postion value and history for input to neural network\n",
    "    def step(self,action):\n",
    "        \n",
    "        reward=0 #variable for storing reward \n",
    "        \n",
    "        #actionspace : 0=hold,1=buy,2=sell\n",
    "        \n",
    "        if (action==1):\n",
    "            if(len(self.positions)<=self.Max_transaction):\n",
    "                self.positions.append(self.data.iloc[self.t, :]['Close'])\n",
    "                \n",
    "                self.current_stocks.append((self.Total_Amount)/((self.Max_transaction-len(self.positions))*self.data.iloc[self.t, :]['Close']))\n",
    "                self.Total_Amount=self.Total_Amount-(self.Total_Amount)/((self.Max_transaction-len(self.positions)))\n",
    "         # AS action 1 is buy we append the close price to the position list if the length of positions is less than Max_transaction\n",
    "        #lenth of position is same as current transaction\n",
    "        #We also calculated how much stocks we can buy in this action using the formula suggested in the problem statement\n",
    "        # Append it to the list of current_stocks\n",
    "        \n",
    "        elif (action==2):                                          \n",
    "            if len(self.positions) == 0:\n",
    "                reward = -1 #punishing for 2 sells having no buy order between them  as we don't have anything to sell\n",
    "            else:\n",
    "                profits = 0 #with no limits \n",
    "                new_profit=0 #with all the limits of problem statement\n",
    "                \n",
    "                for i in range(len(self.positions)):\n",
    "                    new_profit += (self.data.iloc[self.t, :]['Close'] - self.positions[i])*self.current_stocks[i]\n",
    "                    #calculating profits on selling with all the postions we have\n",
    "                for p in self.positions:\n",
    "                    profits += (self.data.iloc[self.t, :]['Close'] - p)\n",
    "                   \n",
    "                reward += new_profit\n",
    "                self.profits += profits\n",
    "                self.calculated_profits+=new_profit\n",
    "                self.Total_Amount=self.Total_Amount+self.data.iloc[self.t, :]['Close']*sum(self.current_stocks)\n",
    "                #calculate total_amount after the selling of all position we have\n",
    "                self.positions = []\n",
    "                #removing all positions and current stokes as we sell them\n",
    "                self.current_stocks=[]                                     \n",
    "        # set for next time\n",
    "        self.t += 1\n",
    "        # as we have taken action for that day now we can use its close  for calculating next \n",
    "        \n",
    "        self.position_value = 0\n",
    "        for p in self.positions:\n",
    "            self.position_value += (self.data.iloc[self.t, :]['Close'] - p)\n",
    "        self.history.pop(0)\n",
    "        #poping the element which stored first like queue \n",
    "        self.history.append(self.data.iloc[self.t, :]['Close'] - self.data.iloc[(self.t-1), :]['Close'])\n",
    "        # appending the price difference of this day\n",
    "        if reward > 0:\n",
    "            reward = 1\n",
    "        elif reward < 0:\n",
    "            reward = -1\n",
    "        #clipping the reward to 1 or -1 \n",
    "        #if we hold or buy we have reward zero\n",
    "        # if we sell profit >0 results in reward of 1 and profit<0 result in -1\n",
    "        return [self.position_value] + self.history, reward, self.done\n",
    "    # returning in same form like gym except the info "
   ]
  },
  {
   "cell_type": "code",
   "execution_count": 15,
   "metadata": {},
   "outputs": [],
   "source": [
    "#Taking Total_Amount =1000000 Max_Transactions=100\n",
    "#creating environment for training data\n",
    "\n",
    "env=environment(train,1000000,100)"
   ]
  },
  {
   "cell_type": "code",
   "execution_count": 16,
   "metadata": {},
   "outputs": [
    {
     "name": "stdout",
     "output_type": "stream",
     "text": [
      "Discrete(3)\n",
      "1000000\n",
      "100\n"
     ]
    }
   ],
   "source": [
    "#lets see few attributes of our env\n",
    "print(env.action_space)\n",
    "print(env.Total_Amount)\n",
    "print(env.Max_transaction)\n"
   ]
  },
  {
   "cell_type": "code",
   "execution_count": 17,
   "metadata": {},
   "outputs": [],
   "source": [
    "keep_all_action=[]\n",
    "def train_double_deep_q_network(env):\n",
    "\n",
    "    class Q_Network(chainer.Chain):\n",
    "\n",
    "        def __init__(self, input_size, hidden_size, output_size):\n",
    "            super(Q_Network, self).__init__(\n",
    "                fc1 = L.Linear(input_size, hidden_size),\n",
    "                fc2 = L.Linear(hidden_size, hidden_size),\n",
    "                fc3 = L.Linear(hidden_size, output_size)\n",
    "            )\n",
    "        #creating 3 layered neural network\n",
    "        # chainer is similar to pytorch \n",
    "        # Linear means all the layers are fully connected\n",
    "        #our first layer is of input size which we give is history length +1(positional value)\n",
    "        #second layer is hidden layer with 100 nodes\n",
    "        #outlayer is obvious consists of 3 nodes to ouput the q values for the 3 action we have in our action space\n",
    "        def __call__(self, x):\n",
    "            h = F.relu(self.fc1(x))\n",
    "            h = F.relu(self.fc2(h))\n",
    "            y = self.fc3(h)\n",
    "            return y\n",
    "        #so the activation function used is rectified linear unit between these layers \n",
    "        # I aslo play around with these best I got is takin both relu\n",
    "        def reset(self):\n",
    "            self.zerograds()\n",
    "        # initiating all the weights to zer0\n",
    "    #After making Q_network class We make Two neural network\n",
    "    # We try to minimise the loss between Q_value given by our network and Q_max from bellman optimality equation\n",
    "    #but we also don;t know the bellman optimal Q value \n",
    "    # using 2nd network we calculate that\n",
    "    Q = Q_Network(input_size=env.history_length+1, hidden_size=100, output_size=3)\n",
    "    #first network\n",
    "    Q_ast = copy.deepcopy(Q)\n",
    "    #2nd network\n",
    "    optimizer = chainer.optimizers.Adam()\n",
    "    #using Adam optimiser\n",
    "    optimizer.setup(Q)\n",
    "\n",
    "    epoch_num = 20 #toatl epoch over the training data\n",
    "    step_max = len(env.data)-1\n",
    "    memory_size = 200 #size of Replay memory storing our experiences\n",
    "    batch_size = 50 \n",
    "    epsilon = 1.0 #max_epsilon\n",
    "    epsilon_decrease = 1e-3 #epsilon decay rate\n",
    "    epsilon_min = 0.1 #min epsilon\n",
    "    start_reduce_epsilon = 200 #start reducing epsilon after 200 steps\n",
    "    train_freq = 10 #frequency at which we train our network\n",
    "    update_q_freq = 20 #frequency at which we copy the weights of our first network into other\n",
    "    gamma = 0.97  #discount factor\n",
    "    show_log_freq = 1 #frequency at which we show our log\n",
    "    #may be changed if the log became large\n",
    "\n",
    "    memory = [] #replay memory\n",
    "    total_step = 0 \n",
    "    total_rewards = [] #keep tracks of rewards obtained by the action\n",
    "    total_losses = [] #loss from the loss function defined later\n",
    "\n",
    "    start = time.time() #keep track of time\n",
    "    for epoch in range(epoch_num):\n",
    "\n",
    "        pobs = env.reset() \n",
    "       \n",
    "        #At starting reseting the environment \n",
    "        #pobs have list of zeors \n",
    "        step = 0\n",
    "        done = False\n",
    "        #done to check epoch finishes or not\n",
    "        total_reward = 0\n",
    "        #total reward for every epoch\n",
    "        total_loss = 0\n",
    "        #loss by loss function\n",
    "\n",
    "        while not done and step < step_max:\n",
    "\n",
    "            \n",
    "            pact = np.random.randint(3)\n",
    "            #Taking any random action  \n",
    "            #we only take this action if randomly generated number is less than epsilon (epsilon greedy strategy)\n",
    "            if np.random.rand() > epsilon:\n",
    "                pact = Q(np.array(pobs, dtype=np.float32).reshape(1, -1))\n",
    "               \n",
    "                pact = np.argmax(pact.data)\n",
    "                \n",
    "\n",
    "            # append to the action list\n",
    "            keep_all_action.append(pact)\n",
    "#             )\n",
    "            obs, reward, done = env.step(pact)\n",
    "            #taking a step using the step environment funtion which return list +reward for that action+done\n",
    "        \n",
    "            # add this to memory\n",
    "            memory.append((pobs, pact, reward, obs, done))\n",
    "            if len(memory) > memory_size:\n",
    "                memory.pop(0)\n",
    "            \n",
    "            # train or update q\n",
    "            #We train our network at our training frequency\n",
    "            if len(memory) == memory_size:\n",
    "                if total_step % train_freq == 0:\n",
    "                    #shuffing the memory so that corealtion between consecutive experiences don't captured by our network results in better learning\n",
    "                    shuffled_memory = np.random.permutation(memory)\n",
    "                    memory_idx = range(len(shuffled_memory))\n",
    "                    #In next step batch size act like step we use in range funtions \n",
    "                    for i in memory_idx[::batch_size]:\n",
    "                        batch = np.array(shuffled_memory[i:i+batch_size])\n",
    "                        #selecting the batch \n",
    "                        # as we know the batch has 5 columnsas we appended in the memory list (pobs,pact,reward, obs,done)\n",
    "                        #it is same as storing (St,Action,reward,S(t+1),done)\n",
    "                        #below we are selecting different columns to work with\n",
    "                        b_pobs = np.array(batch[:, 0].tolist(), dtype=np.float32).reshape(batch_size, -1)\n",
    "                        b_pact = np.array(batch[:, 1].tolist(), dtype=np.int32)\n",
    "                        b_reward = np.array(batch[:, 2].tolist(), dtype=np.int32)\n",
    "                        b_obs = np.array(batch[:, 3].tolist(), dtype=np.float32).reshape(batch_size, -1)\n",
    "                        b_done = np.array(batch[:, 4].tolist(), dtype=np.bool)\n",
    "\n",
    "                        q = Q(b_pobs)\n",
    "                       #Using Our first network We calculate Q value of all three action and take index of max Q value \n",
    "                        indices = np.argmax(q.data, axis=1)\n",
    "                        #using 2nd we also estimate the Q_values \n",
    "                        maxqs = Q_ast(b_obs).data\n",
    "                        \n",
    "                        target = copy.deepcopy(q.data)\n",
    "                        for j in range(batch_size):\n",
    "                            \n",
    "                            target[j, b_pact[j]] = b_reward[j]+gamma*maxqs[j, indices[j]]*(not b_done[j])\n",
    "                            \n",
    "                        Q.reset()\n",
    "                        #As defined the loss function is square of difference between the 2 Q values \n",
    "                        loss = F.mean_squared_error(q, target)\n",
    "                        total_loss += loss.data #storing the total loss\n",
    "                        loss.backward() #minimising the loss\n",
    "                        optimizer.update()\n",
    "\n",
    "                if total_step % update_q_freq == 0:\n",
    "                    Q_ast = copy.deepcopy(Q)\n",
    "                    #at update_q_frequency we update the weights of 1st network with 2nd one\n",
    "                    #we don't update every time as they don't converge than resuting in bad results\n",
    "            # epsilon decreasing after few steps linearly\n",
    "            if epsilon > epsilon_min and total_step > start_reduce_epsilon:\n",
    "                epsilon -= epsilon_decrease\n",
    "\n",
    "            # next step\n",
    "            total_reward += reward\n",
    "            pobs = obs\n",
    "            step += 1\n",
    "            total_step += 1\n",
    "        #appending reward and loss to see at the epoch end\n",
    "        total_rewards.append(total_reward)\n",
    "        total_losses.append(total_loss)\n",
    "\n",
    "        #showing the log after every epoch\n",
    "        log_reward = sum(total_rewards[((epoch+1)-show_log_freq):])/show_log_freq\n",
    "        log_loss = sum(total_losses[((epoch+1)-show_log_freq):])/show_log_freq\n",
    "        elapsed_time = time.time()-start #time to complete that epoch\n",
    "        print('\\t'.join(map(str, [epoch+1, total_step, log_reward, log_loss, elapsed_time])))\n",
    "        #printing the epoch number total step in each epoch, reward obtained, Total loss from neural network, time taken by it\n",
    "        start = time.time()\n",
    "            \n",
    "    return Q, total_losses, total_rewards\n",
    "#return network, loss and reward"
   ]
  },
  {
   "cell_type": "code",
   "execution_count": 18,
   "metadata": {},
   "outputs": [
    {
     "name": "stdout",
     "output_type": "stream",
     "text": [
      "1\t2768\t-281.0\t607.633637920022\t10.584585666656494\n",
      "2\t5536\t-42.0\t99.41248110681772\t13.087390661239624\n",
      "3\t8304\t79.0\t110.9185795430094\t15.392655849456787\n",
      "4\t11072\t102.0\t80.26714731007814\t16.441572666168213\n",
      "5\t13840\t-36.0\t20.488780030282214\t12.876848220825195\n",
      "6\t16608\t-4.0\t16.72856147494167\t13.647215843200684\n",
      "7\t19376\t101.0\t23.708366319653578\t17.200809240341187\n",
      "8\t22144\t103.0\t22.507205125468317\t18.69883131980896\n",
      "9\t24912\t31.0\t14.310412313468987\t14.69767689704895\n",
      "10\t27680\t124.0\t27.30244692787528\t15.69750690460205\n",
      "11\t30448\t-6.0\t18.485708538646577\t13.913450479507446\n",
      "12\t33216\t92.0\t17.65924117976101\t14.468338012695312\n",
      "13\t35984\t-27.0\t7.182740275857213\t13.519613981246948\n",
      "14\t38752\t99.0\t8.721305406899774\t14.287423849105835\n",
      "15\t41520\t130.0\t14.070941724232398\t17.003628253936768\n",
      "16\t44288\t43.0\t9.774741641274886\t18.35339093208313\n",
      "17\t47056\t116.0\t12.301551807424403\t16.860354900360107\n",
      "18\t49824\t170.0\t15.152793582194136\t15.742996454238892\n",
      "19\t52592\t209.0\t10.910171490482753\t13.93871784210205\n",
      "20\t55360\t53.0\t7.183207918118569\t11.77942419052124\n"
     ]
    }
   ],
   "source": [
    "Q, total_losses, total_rewards = train_double_deep_q_network(env)#training our network "
   ]
  },
  {
   "cell_type": "code",
   "execution_count": 19,
   "metadata": {},
   "outputs": [
    {
     "data": {
      "text/plain": [
       "1063911.26956673"
      ]
     },
     "execution_count": 19,
     "metadata": {},
     "output_type": "execute_result"
    }
   ],
   "source": [
    "env.Total_Amount #total amounts with profits"
   ]
  },
  {
   "cell_type": "code",
   "execution_count": 20,
   "metadata": {},
   "outputs": [
    {
     "data": {
      "text/plain": [
       "[]"
      ]
     },
     "execution_count": 20,
     "metadata": {},
     "output_type": "execute_result"
    }
   ],
   "source": [
    "env.current_stocks\n",
    "#after all actions how many many stocks we have"
   ]
  },
  {
   "cell_type": "code",
   "execution_count": 21,
   "metadata": {},
   "outputs": [],
   "source": [
    "#Lets see the action taken by our agent\n"
   ]
  },
  {
   "cell_type": "code",
   "execution_count": 22,
   "metadata": {},
   "outputs": [
    {
     "name": "stdout",
     "output_type": "stream",
     "text": [
      "Total action= 55360\n",
      "Hold= 28848\n",
      "Buy= 19836\n",
      "Sell= 6676\n"
     ]
    }
   ],
   "source": [
    "\n",
    "#All actions from all epochs\n",
    "count0=0\n",
    "count1=0\n",
    "count2=0\n",
    "print(\"Total action=\",len(keep_all_action))\n",
    "for i in keep_all_action:\n",
    "    if(i==0):\n",
    "        count0=count0+1\n",
    "    elif (i==1):\n",
    "        count1=count1+1\n",
    "    else:\n",
    "        count2=count2+1\n",
    "print(\"Hold=\",count0)\n",
    "print(\"Buy=\",count1)\n",
    "print(\"Sell=\",count2)"
   ]
  },
  {
   "cell_type": "code",
   "execution_count": 23,
   "metadata": {},
   "outputs": [
    {
     "name": "stdout",
     "output_type": "stream",
     "text": [
      "94\n"
     ]
    }
   ],
   "source": [
    "#consecutive buys made by our agent between 2 sell\n",
    "max_count=0\n",
    "count=0\n",
    "counti=[]\n",
    "for i in keep_all_action:\n",
    "    \n",
    "    if(i==1):\n",
    "        count=count+1\n",
    "    if(i==2):\n",
    "        counti.append(count)\n",
    "        count=0\n",
    "        \n",
    "    if(count>max_count):\n",
    "        max_count=count\n",
    "print(max_count)"
   ]
  },
  {
   "cell_type": "code",
   "execution_count": 24,
   "metadata": {},
   "outputs": [],
   "source": [
    "#Now lets test the agent on test data"
   ]
  },
  {
   "cell_type": "code",
   "execution_count": 35,
   "metadata": {},
   "outputs": [],
   "source": [
    "act=[]\n",
    "def Test_our_agent(train_env, test_env, Q):\n",
    "    \n",
    "    # train\n",
    "    pobs = test_env.reset()\n",
    "    test_acts = []\n",
    "    test_rewards = []\n",
    "\n",
    "    for _ in range(len(test_env.data)-1):\n",
    "    \n",
    "        pact = Q(np.array(pobs, dtype=np.float32).reshape(1, -1))\n",
    "        pact = np.argmax(pact.data)#taking the action with max q values \n",
    "        test_acts.append(pact)\n",
    "        act.append(pact)\n",
    "            \n",
    "        obs, reward, done = test_env.step(pact) \n",
    "        test_rewards.append(reward)\n",
    "\n",
    "        pobs = obs\n",
    "    return test_rewards\n",
    "        \n",
    "\n",
    "\n",
    "\n"
   ]
  },
  {
   "cell_type": "code",
   "execution_count": 36,
   "metadata": {},
   "outputs": [],
   "source": [
    "test_env=environment(test,1000000,47)\n",
    "l1=Test_our_agent(env,test_env,Q) #testing our environment\n",
    "#now the question is how much max_transaction we take\n",
    "#we should take much less than training as training data is pretty large than testing data\n",
    "#if we take large max_transaction most of our amount remain unused "
   ]
  },
  {
   "cell_type": "code",
   "execution_count": 37,
   "metadata": {},
   "outputs": [
    {
     "data": {
      "text/plain": [
       "1000000"
      ]
     },
     "execution_count": 37,
     "metadata": {},
     "output_type": "execute_result"
    }
   ],
   "source": [
    "test_env.total_Amount"
   ]
  },
  {
   "cell_type": "code",
   "execution_count": 38,
   "metadata": {},
   "outputs": [
    {
     "data": {
      "text/plain": [
       "933575.6770620357"
      ]
     },
     "execution_count": 38,
     "metadata": {},
     "output_type": "execute_result"
    }
   ],
   "source": [
    "test_env.Total_Amount\n",
    "# Total amounts after training (initial +profits)"
   ]
  },
  {
   "cell_type": "code",
   "execution_count": 46,
   "metadata": {},
   "outputs": [],
   "source": [
    "#its seems we make lose but here is a twist we doesn't take account the current stocks we have\n"
   ]
  },
  {
   "cell_type": "code",
   "execution_count": 47,
   "metadata": {},
   "outputs": [
    {
     "data": {
      "text/plain": [
       "[13.672010073772814,\n",
       " 13.509840935831157,\n",
       " 13.64270341338531,\n",
       " 13.95349652611932,\n",
       " 14.115520579166173,\n",
       " 14.025908490487858,\n",
       " 14.042663851529907,\n",
       " 14.12582812094228]"
      ]
     },
     "execution_count": 47,
     "metadata": {},
     "output_type": "execute_result"
    }
   ],
   "source": [
    "test_env.current_stocks"
   ]
  },
  {
   "cell_type": "code",
   "execution_count": 48,
   "metadata": {},
   "outputs": [
    {
     "data": {
      "text/html": [
       "<div>\n",
       "<style scoped>\n",
       "    .dataframe tbody tr th:only-of-type {\n",
       "        vertical-align: middle;\n",
       "    }\n",
       "\n",
       "    .dataframe tbody tr th {\n",
       "        vertical-align: top;\n",
       "    }\n",
       "\n",
       "    .dataframe thead th {\n",
       "        text-align: right;\n",
       "    }\n",
       "</style>\n",
       "<table border=\"1\" class=\"dataframe\">\n",
       "  <thead>\n",
       "    <tr style=\"text-align: right;\">\n",
       "      <th></th>\n",
       "      <th>Date</th>\n",
       "      <th>Open</th>\n",
       "      <th>High</th>\n",
       "      <th>Low</th>\n",
       "      <th>Close</th>\n",
       "      <th>Adj Close</th>\n",
       "      <th>Volume</th>\n",
       "    </tr>\n",
       "  </thead>\n",
       "  <tbody>\n",
       "    <tr>\n",
       "      <th>3258</th>\n",
       "      <td>2019-12-11</td>\n",
       "      <td>1741.670044</td>\n",
       "      <td>1750.0</td>\n",
       "      <td>1735.709961</td>\n",
       "      <td>1748.719971</td>\n",
       "      <td>1748.719971</td>\n",
       "      <td>2097600</td>\n",
       "    </tr>\n",
       "  </tbody>\n",
       "</table>\n",
       "</div>"
      ],
      "text/plain": [
       "            Date         Open    High          Low        Close    Adj Close  \\\n",
       "3258  2019-12-11  1741.670044  1750.0  1735.709961  1748.719971  1748.719971   \n",
       "\n",
       "       Volume  \n",
       "3258  2097600  "
      ]
     },
     "execution_count": 48,
     "metadata": {},
     "output_type": "execute_result"
    }
   ],
   "source": [
    "#just assume we also sell these stocks at last with price of last day \n",
    "#the last day prife is\n",
    "test[test.index==max(test.index)]\n"
   ]
  },
  {
   "cell_type": "code",
   "execution_count": 50,
   "metadata": {},
   "outputs": [
    {
     "name": "stdout",
     "output_type": "stream",
     "text": [
      "[1796.939941, 1818.5100100000002, 1800.800049, 1760.689941, 1740.47998, 1751.5999760000002, 1749.5100100000002, 1739.209961]\n"
     ]
    },
    {
     "data": {
      "text/plain": [
       "194260.64750079229"
      ]
     },
     "execution_count": 50,
     "metadata": {},
     "output_type": "execute_result"
    }
   ],
   "source": [
    "#so the last day price is 1748\n",
    "print(test_env.positions)\n",
    "1748.71*sum(test_env.current_stocks)"
   ]
  },
  {
   "cell_type": "code",
   "execution_count": 51,
   "metadata": {},
   "outputs": [
    {
     "data": {
      "text/plain": [
       "12.783632456282806"
      ]
     },
     "execution_count": 51,
     "metadata": {},
     "output_type": "execute_result"
    }
   ],
   "source": [
    "#so the total profit is(in percentage)\n",
    "((test_env.Total_Amount+1748.71*sum(test_env.current_stocks))-test_env.total_Amount)*100/test_env.total_Amount\n",
    "#I run it many time the profit ranges from 5% to 20% "
   ]
  },
  {
   "cell_type": "code",
   "execution_count": 52,
   "metadata": {},
   "outputs": [
    {
     "name": "stdout",
     "output_type": "stream",
     "text": [
      "46\n"
     ]
    }
   ],
   "source": [
    "max_count=0\n",
    "count=0\n",
    "counti=[]\n",
    "for i in act:\n",
    "    \n",
    "    if(i==1):\n",
    "        count=count+1\n",
    "    if(i==2):\n",
    "        counti.append(count)\n",
    "        count=0\n",
    "        \n",
    "    if(count>max_count):\n",
    "        max_count=count\n",
    "print(max_count)\n"
   ]
  },
  {
   "cell_type": "code",
   "execution_count": 53,
   "metadata": {},
   "outputs": [],
   "source": [
    "#lets see the amount used using our formula given in the problem statement taking 47 transactions\n",
    "price=[1000000]\n",
    "for i in range(47):\n",
    "    price.append(price[i]-price[i]/(47-i))"
   ]
  },
  {
   "cell_type": "code",
   "execution_count": 54,
   "metadata": {},
   "outputs": [
    {
     "data": {
      "text/plain": [
       "[<matplotlib.lines.Line2D at 0x23153032ec8>]"
      ]
     },
     "execution_count": 54,
     "metadata": {},
     "output_type": "execute_result"
    },
    {
     "data": {
      "image/png": "[encoded data removed]",
      "text/plain": [
       "<Figure size 432x288 with 1 Axes>"
      ]
     },
     "metadata": {
      "needs_background": "light"
     },
     "output_type": "display_data"
    }
   ],
   "source": [
    "plt.plot(price)"
   ]
  },
  {
   "cell_type": "code",
   "execution_count": 55,
   "metadata": {},
   "outputs": [],
   "source": [
    "#lets plot our actions of our test data"
   ]
  },
  {
   "cell_type": "code",
   "execution_count": 56,
   "metadata": {},
   "outputs": [
    {
     "data": {
      "text/plain": [
       "490"
      ]
     },
     "execution_count": 56,
     "metadata": {},
     "output_type": "execute_result"
    }
   ],
   "source": [
    "len(test)"
   ]
  },
  {
   "cell_type": "code",
   "execution_count": 57,
   "metadata": {},
   "outputs": [
    {
     "data": {
      "text/plain": [
       "489"
      ]
     },
     "execution_count": 57,
     "metadata": {},
     "output_type": "execute_result"
    }
   ],
   "source": [
    "len(act)"
   ]
  },
  {
   "cell_type": "code",
   "execution_count": 58,
   "metadata": {},
   "outputs": [
    {
     "data": {
      "text/plain": [
       "<matplotlib.axes._subplots.AxesSubplot at 0x23153df0288>"
      ]
     },
     "execution_count": 58,
     "metadata": {},
     "output_type": "execute_result"
    },
    {
     "data": {
      "image/png": "[encoded data removed]",
      "text/plain": [
       "<Figure size 1440x720 with 1 Axes>"
      ]
     },
     "metadata": {
      "needs_background": "light"
     },
     "output_type": "display_data"
    }
   ],
   "source": [
    "\n",
    "plt.figure(figsize=(20,10))\n",
    "sns.scatterplot(x=test.index, y=\"Close\",data=test)"
   ]
  },
  {
   "cell_type": "code",
   "execution_count": 59,
   "metadata": {},
   "outputs": [
    {
     "name": "stderr",
     "output_type": "stream",
     "text": [
      "C:\\Users\\manish\\anaconda3\\lib\\site-packages\\pandas\\core\\frame.py:3997: SettingWithCopyWarning: \n",
      "A value is trying to be set on a copy of a slice from a DataFrame\n",
      "\n",
      "See the caveats in the documentation: https://pandas.pydata.org/pandas-docs/stable/user_guide/indexing.html#returning-a-view-versus-a-copy\n",
      "  errors=errors,\n"
     ]
    },
    {
     "data": {
      "text/plain": [
       "489"
      ]
     },
     "execution_count": 59,
     "metadata": {},
     "output_type": "execute_result"
    }
   ],
   "source": [
    "test.drop(index=3258,axis=0,inplace=True)\n",
    "len(test)"
   ]
  },
  {
   "cell_type": "code",
   "execution_count": 60,
   "metadata": {},
   "outputs": [
    {
     "name": "stderr",
     "output_type": "stream",
     "text": [
      "C:\\Users\\manish\\anaconda3\\lib\\site-packages\\ipykernel_launcher.py:1: SettingWithCopyWarning: \n",
      "A value is trying to be set on a copy of a slice from a DataFrame.\n",
      "Try using .loc[row_indexer,col_indexer] = value instead\n",
      "\n",
      "See the caveats in the documentation: https://pandas.pydata.org/pandas-docs/stable/user_guide/indexing.html#returning-a-view-versus-a-copy\n",
      "  \"\"\"Entry point for launching an IPython kernel.\n"
     ]
    }
   ],
   "source": [
    "test[\"Action\"]=act"
   ]
  },
  {
   "cell_type": "code",
   "execution_count": 61,
   "metadata": {},
   "outputs": [
    {
     "data": {
      "text/plain": [
       "<matplotlib.axes._subplots.AxesSubplot at 0x23151424588>"
      ]
     },
     "execution_count": 61,
     "metadata": {},
     "output_type": "execute_result"
    },
    {
     "data": {
      "image/png": "[encoded data removed]",
      "text/plain": [
       "<Figure size 1440x720 with 1 Axes>"
      ]
     },
     "metadata": {
      "needs_background": "light"
     },
     "output_type": "display_data"
    }
   ],
   "source": [
    "plt.figure(figsize=(20,10))\n",
    "\n",
    "pal=sns.set_palette(sns.color_palette([\"#108f87\",\"#ff0000\",\"#000000\"]))\n",
    "sns.scatterplot(x=test.index, y=\"Close\",data=test,hue=\"Action\",palette=[\"#0000ff\",\"#ff0000\",\"#108f12\"],style=\"Action\")"
   ]
  },
  {
   "cell_type": "code",
   "execution_count": 62,
   "metadata": {},
   "outputs": [],
   "source": [
    "#above graph is scatterplot with the action we take on that point \n",
    "#BLUE DOTS: HOLD\n",
    "#RED CROSS: BUY\n",
    "#GREEN SQUARES: SELL"
   ]
  },
  {
   "cell_type": "code",
   "execution_count": null,
   "metadata": {},
   "outputs": [],
   "source": []
  }
 ],
 "metadata": {
  "kernelspec": {
   "display_name": "Python 3",
   "language": "python",
   "name": "python3"
  },
  "language_info": {
   "codemirror_mode": {
    "name": "ipython",
    "version": 3
   },
   "file_extension": ".py",
   "mimetype": "text/x-python",
   "name": "python",
   "nbconvert_exporter": "python",
   "pygments_lexer": "ipython3",
   "version": "3.7.6"
  }
 },
 "nbformat": 4,
 "nbformat_minor": 4
}
